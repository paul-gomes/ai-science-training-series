{
 "cells": [
  {
   "cell_type": "markdown",
   "id": "280637e4",
   "metadata": {},
   "source": [
    "# Here is my hw solution"
   ]
  },
  {
   "cell_type": "code",
   "execution_count": 1,
   "id": "57564ed4",
   "metadata": {},
   "outputs": [
    {
     "name": "stderr",
     "output_type": "stream",
     "text": [
      "2022-10-24 21:31:56.046383: I tensorflow/core/platform/cpu_feature_guard.cc:193] This TensorFlow binary is optimized with oneAPI Deep Neural Network Library (oneDNN) to use the following CPU instructions in performance-critical operations:  AVX2 FMA\n",
      "To enable them in other operations, rebuild TensorFlow with the appropriate compiler flags.\n",
      "2022-10-24 21:31:56.195539: E tensorflow/stream_executor/cuda/cuda_blas.cc:2981] Unable to register cuBLAS factory: Attempting to register factory for plugin cuBLAS when one has already been registered\n",
      "2022-10-24 21:31:57.072172: W tensorflow/stream_executor/platform/default/dso_loader.cc:64] Could not load dynamic library 'libnvinfer.so.7'; dlerror: libnvinfer.so.7: cannot open shared object file: No such file or directory; LD_LIBRARY_PATH: /lus/theta-fs0/software/thetagpu/openmpi-4.0.5/ucx-1.9.0rc7/lib:/lus/theta-fs0/software/thetagpu/openmpi-4.0.5/lib\n",
      "2022-10-24 21:31:57.072244: W tensorflow/stream_executor/platform/default/dso_loader.cc:64] Could not load dynamic library 'libnvinfer_plugin.so.7'; dlerror: libnvinfer_plugin.so.7: cannot open shared object file: No such file or directory; LD_LIBRARY_PATH: /lus/theta-fs0/software/thetagpu/openmpi-4.0.5/ucx-1.9.0rc7/lib:/lus/theta-fs0/software/thetagpu/openmpi-4.0.5/lib\n",
      "2022-10-24 21:31:57.072250: W tensorflow/compiler/tf2tensorrt/utils/py_utils.cc:38] TF-TRT Warning: Cannot dlopen some TensorRT libraries. If you would like to use Nvidia GPU with TensorRT, please make sure the missing libraries mentioned above are installed properly.\n"
     ]
    }
   ],
   "source": [
    "%matplotlib inline\n",
    "\n",
    "import tensorflow as tf\n",
    "\n",
    "import numpy\n",
    "import matplotlib.pyplot as plt\n",
    "import time"
   ]
  },
  {
   "cell_type": "markdown",
   "id": "95ee2d19",
   "metadata": {},
   "source": [
    "CIFAR-10 data set\n",
    "\n",
    "Again we'll load the cifar10 data set. CIFAR-10 dataset contains 32x32 color images from 10 classes: airplane, automobile, bird, cat, deer, dog, frog, horse, ship, truck.\n"
   ]
  },
  {
   "cell_type": "code",
   "execution_count": 22,
   "id": "007c5f7e",
   "metadata": {},
   "outputs": [
    {
     "name": "stdout",
     "output_type": "stream",
     "text": [
      "Defaulting to user installation because normal site-packages is not writeable\n",
      "Requirement already satisfied: image-dataset-loader in /home/paulgomes/.local/lib/python3.9/site-packages (0.0.0)\n",
      "Requirement already satisfied: numpy>=1.0.0 in /lus/theta-fs0/software/thetagpu/systems/miniconda3/lib/python3.9/site-packages (from image-dataset-loader) (1.20.3)\n",
      "Requirement already satisfied: imageio>=2.0.0 in /home/paulgomes/.local/lib/python3.9/site-packages (from image-dataset-loader) (2.22.2)\n",
      "Requirement already satisfied: pillow>=8.3.2 in /lus/theta-fs0/software/thetagpu/systems/miniconda3/lib/python3.9/site-packages (from imageio>=2.0.0->image-dataset-loader) (8.3.2)\n",
      "--2022-10-24 20:55:20--  https://s3.amazonaws.com/fast-ai-imageclas/cifar10.tgz\n",
      "Resolving s3.amazonaws.com (s3.amazonaws.com)... 52.217.165.152\n",
      "Connecting to s3.amazonaws.com (s3.amazonaws.com)|52.217.165.152|:443... connected.\n",
      "HTTP request sent, awaiting response... 200 OK\n",
      "Length: 135107811 (129M) [application/x-tar]\n",
      "Saving to: ‘cifar10.tgz.3’\n",
      "\n",
      "cifar10.tgz.3       100%[===================>] 128.85M  75.8MB/s    in 1.7s    \n",
      "\n",
      "2022-10-24 20:55:22 (75.8 MB/s) - ‘cifar10.tgz.3’ saved [135107811/135107811]\n",
      "\n"
     ]
    }
   ],
   "source": [
    "!pip install image-dataset-loader\n",
    "!wget https://s3.amazonaws.com/fast-ai-imageclas/cifar10.tgz\n",
    "!tar -xf cifar10.tgz"
   ]
  },
  {
   "cell_type": "code",
   "execution_count": 2,
   "id": "e36360f5",
   "metadata": {},
   "outputs": [
    {
     "name": "stdout",
     "output_type": "stream",
     "text": [
      "\n",
      "CIFAR-10 data loaded: train: 50000 test: 10000\n",
      "X_train: (50000, 32, 32, 3)\n",
      "y_train: (50000,)\n"
     ]
    }
   ],
   "source": [
    "from image_dataset_loader import load\n",
    "(x_train, y_train), (x_test, y_test) = load('cifar10', ['train', 'test'])\n",
    "\n",
    "x_train = x_train.astype(numpy.float32)\n",
    "x_test  = x_test.astype(numpy.float32)\n",
    "\n",
    "x_train /= 255.\n",
    "x_test  /= 255.\n",
    "\n",
    "y_train = y_train.astype(numpy.int32)\n",
    "y_test  = y_test.astype(numpy.int32)\n",
    "\n",
    "print()\n",
    "print('CIFAR-10 data loaded: train:',len(x_train),'test:',len(x_test))\n",
    "print('X_train:', x_train.shape)\n",
    "print('y_train:', y_train.shape)"
   ]
  },
  {
   "cell_type": "code",
   "execution_count": 26,
   "id": "35f2b639",
   "metadata": {},
   "outputs": [],
   "source": [
    "class CIFAR10Classifier(tf.keras.models.Model):\n",
    "\n",
    "    def __init__(self, activation=tf.nn.tanh):\n",
    "        tf.keras.models.Model.__init__(self)\n",
    "\n",
    "        self.conv_1 = tf.keras.layers.Conv2D(32, [3, 3], strides =(1, 1), padding=\"same\", activation='relu')\n",
    "        self.conv_2 = tf.keras.layers.Conv2D(64, [3, 3], strides =(1, 1), padding=\"same\", activation='relu')\n",
    "        self.pool_3 = tf.keras.layers.MaxPooling2D(pool_size=(2, 2))\n",
    "        self.conv_4 = tf.keras.layers.Conv2D(128, [3, 3], strides =(1, 1), padding=\"same\", activation='relu')\n",
    "        self.pool_5 = tf.keras.layers.MaxPooling2D(pool_size=(2, 2))\n",
    "        self.drop_6 = tf.keras.layers.Dropout(0.25)\n",
    "        self.dense_7 = tf.keras.layers.Dense(128, activation='relu')\n",
    "        self.drop_8 = tf.keras.layers.Dropout(0.5)\n",
    "        self.dense_9 = tf.keras.layers.Dense(128, activation='relu')\n",
    "        self.drop_10 = tf.keras.layers.Dropout(0.5)\n",
    "        self.dense_11 = tf.keras.layers.Dense(10, activation='softmax')\n",
    "\n",
    "    def call(self, inputs):\n",
    "\n",
    "        x = self.conv_1(inputs)\n",
    "        x = self.conv_2(x)\n",
    "        x = self.pool_3(x)\n",
    "        x = self.conv_4(x)\n",
    "        x = self.pool_5(x)\n",
    "        x = tf.keras.layers.Flatten()(x)\n",
    "        x = self.drop_6(x)\n",
    "        x = self.dense_7(x)\n",
    "        x = self.drop_8(x)\n",
    "        x = self.dense_9(x)\n",
    "        x = self.drop_10(x)\n",
    "        x = self.dense_11(x)\n",
    "\n",
    "        return x"
   ]
  },
  {
   "cell_type": "code",
   "execution_count": 27,
   "id": "fa529db7",
   "metadata": {},
   "outputs": [],
   "source": [
    "def train_network_concise(_batch_size, _n_training_epochs, _lr):\n",
    "\n",
    "    cnn_model = CIFAR10Classifier()\n",
    "\n",
    "    cnn_model.compile(loss=\"sparse_categorical_crossentropy\", optimizer=\"Adam\", metrics=['accuracy'])\n",
    "    \n",
    "    history = cnn_model.fit(x_train, y_train, batch_size=_batch_size, epochs=_n_training_epochs)\n",
    "    return history, cnn_model"
   ]
  },
  {
   "cell_type": "code",
   "execution_count": 28,
   "id": "05b428e9",
   "metadata": {},
   "outputs": [
    {
     "name": "stdout",
     "output_type": "stream",
     "text": [
      "Epoch 1/20\n",
      "1000/1000 [==============================] - 3s 2ms/step - loss: 1.7443 - accuracy: 0.3514\n",
      "Epoch 2/20\n",
      "1000/1000 [==============================] - 2s 2ms/step - loss: 1.3063 - accuracy: 0.5375\n",
      "Epoch 3/20\n",
      "1000/1000 [==============================] - 2s 2ms/step - loss: 1.1420 - accuracy: 0.5982\n",
      "Epoch 4/20\n",
      "1000/1000 [==============================] - 2s 2ms/step - loss: 1.0487 - accuracy: 0.6354\n",
      "Epoch 5/20\n",
      "1000/1000 [==============================] - 2s 2ms/step - loss: 0.9860 - accuracy: 0.6592\n",
      "Epoch 6/20\n",
      "1000/1000 [==============================] - 2s 2ms/step - loss: 0.9174 - accuracy: 0.6846\n",
      "Epoch 7/20\n",
      "1000/1000 [==============================] - 2s 2ms/step - loss: 0.8766 - accuracy: 0.6981\n",
      "Epoch 8/20\n",
      "1000/1000 [==============================] - 3s 3ms/step - loss: 0.8369 - accuracy: 0.7142\n",
      "Epoch 9/20\n",
      "1000/1000 [==============================] - 2s 2ms/step - loss: 0.8059 - accuracy: 0.7242\n",
      "Epoch 10/20\n",
      "1000/1000 [==============================] - 2s 2ms/step - loss: 0.7766 - accuracy: 0.7355\n",
      "Epoch 11/20\n",
      "1000/1000 [==============================] - 2s 2ms/step - loss: 0.7581 - accuracy: 0.7421\n",
      "Epoch 12/20\n",
      "1000/1000 [==============================] - 2s 2ms/step - loss: 0.7297 - accuracy: 0.7517\n",
      "Epoch 13/20\n",
      "1000/1000 [==============================] - 2s 2ms/step - loss: 0.7121 - accuracy: 0.7579\n",
      "Epoch 14/20\n",
      "1000/1000 [==============================] - 2s 2ms/step - loss: 0.6872 - accuracy: 0.7657\n",
      "Epoch 15/20\n",
      "1000/1000 [==============================] - 2s 2ms/step - loss: 0.6764 - accuracy: 0.7690\n",
      "Epoch 16/20\n",
      "1000/1000 [==============================] - 2s 2ms/step - loss: 0.6579 - accuracy: 0.7767\n",
      "Epoch 17/20\n",
      "1000/1000 [==============================] - 2s 2ms/step - loss: 0.6424 - accuracy: 0.7813\n",
      "Epoch 18/20\n",
      "1000/1000 [==============================] - 2s 2ms/step - loss: 0.6215 - accuracy: 0.7892\n",
      "Epoch 19/20\n",
      "1000/1000 [==============================] - 2s 2ms/step - loss: 0.6096 - accuracy: 0.7936\n",
      "Epoch 20/20\n",
      "1000/1000 [==============================] - 2s 2ms/step - loss: 0.5918 - accuracy: 0.7994\n"
     ]
    }
   ],
   "source": [
    "batch_size = 50\n",
    "epochs = 20\n",
    "lr = .01\n",
    "history, cnn_model = train_network_concise(batch_size, epochs, lr)"
   ]
  },
  {
   "cell_type": "code",
   "execution_count": 29,
   "id": "ebb20103",
   "metadata": {},
   "outputs": [
    {
     "data": {
      "image/png": "[encoded data removed]",
      "text/plain": [
       "<Figure size 360x216 with 1 Axes>"
      ]
     },
     "metadata": {
      "needs_background": "light"
     },
     "output_type": "display_data"
    },
    {
     "data": {
      "image/png": "[encoded data removed]",
      "text/plain": [
       "<Figure size 360x216 with 1 Axes>"
      ]
     },
     "metadata": {
      "needs_background": "light"
     },
     "output_type": "display_data"
    }
   ],
   "source": [
    "plt.figure(figsize=(5,3))\n",
    "plt.plot(history.epoch,history.history['loss'])\n",
    "plt.title('loss')\n",
    "\n",
    "plt.figure(figsize=(5,3))\n",
    "plt.plot(history.epoch,history.history['accuracy'])\n",
    "plt.title('accuracy');"
   ]
  },
  {
   "cell_type": "code",
   "execution_count": 30,
   "id": "c12f9069",
   "metadata": {},
   "outputs": [
    {
     "name": "stdout",
     "output_type": "stream",
     "text": [
      "313/313 - 1s - loss: 0.7335 - accuracy: 0.7560 - 520ms/epoch - 2ms/step\n",
      "accuracy: 75.60%\n",
      "CPU times: user 783 ms, sys: 122 ms, total: 905 ms\n",
      "Wall time: 651 ms\n"
     ]
    }
   ],
   "source": [
    "%%time\n",
    "x_test_reshaped = numpy.expand_dims(x_test, -1)\n",
    "scores = cnn_model.evaluate(x_test, y_test, verbose=2)\n",
    "print(\"%s: %.2f%%\" % (cnn_model.metrics_names[1], scores[1]*100))"
   ]
  }
 ],
 "metadata": {
  "kernelspec": {
   "display_name": "Python 3 (ipykernel)",
   "language": "python",
   "name": "python3"
  },
  "language_info": {
   "codemirror_mode": {
    "name": "ipython",
    "version": 3
   },
   "file_extension": ".py",
   "mimetype": "text/x-python",
   "name": "python",
   "nbconvert_exporter": "python",
   "pygments_lexer": "ipython3",
   "version": "3.9.5"
  }
 },
 "nbformat": 4,
 "nbformat_minor": 5
}
